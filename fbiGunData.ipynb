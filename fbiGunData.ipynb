{
 "metadata": {
  "language_info": {
   "codemirror_mode": {
    "name": "ipython",
    "version": 3
   },
   "file_extension": ".py",
   "mimetype": "text/x-python",
   "name": "python",
   "nbconvert_exporter": "python",
   "pygments_lexer": "ipython3",
   "version": "3.8.5"
  },
  "orig_nbformat": 2,
  "kernelspec": {
   "name": "python385jvsc74a57bd09265be1ac22741c325b10d45eed00df80c5ae2ca4f5b2e940198717f070d349e",
   "display_name": "Python 3.8.5 64-bit ('base': conda)"
  },
  "metadata": {
   "interpreter": {
    "hash": "9265be1ac22741c325b10d45eed00df80c5ae2ca4f5b2e940198717f070d349e"
   }
  }
 },
 "nbformat": 4,
 "nbformat_minor": 2,
 "cells": [
  {
   "source": [
    "# Project: Investigation of FBI Gun Data\n",
    "\n",
    "## Table of Contents\n",
    "<ul>\n",
    "<li><a href=\"#intro\">Introduction</a></li>\n",
    "<li><a href=\"#wrangling\">Data Wrangling</a></li>\n",
    "<li><a href=\"#eda\">Exploratory Data Analysis</a></li>\n",
    "<li><a href=\"#conclusions\">Conclusions</a></li>\n",
    "</ul>"
   ],
   "cell_type": "markdown",
   "metadata": {}
  },
  {
   "cell_type": "code",
   "execution_count": 16,
   "metadata": {},
   "outputs": [],
   "source": [
    "#importing packages to be used\n",
    "import pandas as pd\n",
    "import numpy as np\n",
    "import matplotlib.pyplot as plt\n",
    "import seaborn as sns\n",
    "import scipy as sci\n",
    "%matplotlib inline"
   ]
  },
  {
   "source": [
    "The FBI data was provided in an .xlsx Excel format. This was convereted using LibreOffice Calc and then read using Pandas."
   ],
   "cell_type": "markdown",
   "metadata": {}
  },
  {
   "cell_type": "code",
   "execution_count": 17,
   "metadata": {},
   "outputs": [
    {
     "output_type": "execute_result",
     "data": {
      "text/plain": [
       "              permit  permit_recheck        handgun       long_gun  \\\n",
       "count   12461.000000     1100.000000   12465.000000   12466.000000   \n",
       "mean     6413.629404     1165.956364    5940.881107    7810.847585   \n",
       "std     23752.338269     9224.200609    8618.584060    9309.846140   \n",
       "min         0.000000        0.000000       0.000000       0.000000   \n",
       "25%         0.000000        0.000000     865.000000    2078.250000   \n",
       "50%       518.000000        0.000000    3059.000000    5122.000000   \n",
       "75%      4272.000000        0.000000    7280.000000   10380.750000   \n",
       "max    522188.000000   116681.000000  107224.000000  108058.000000   \n",
       "\n",
       "              other      multiple         admin  prepawn_handgun  \\\n",
       "count   5500.000000  12485.000000  12462.000000     10542.000000   \n",
       "mean     360.471636    268.603364     58.898090         4.828021   \n",
       "std     1349.478273    783.185073    604.814818        10.907756   \n",
       "min        0.000000      0.000000      0.000000         0.000000   \n",
       "25%       17.000000     15.000000      0.000000         0.000000   \n",
       "50%      121.000000    125.000000      0.000000         0.000000   \n",
       "75%      354.000000    301.000000      0.000000         5.000000   \n",
       "max    77929.000000  38907.000000  28083.000000       164.000000   \n",
       "\n",
       "       prepawn_long_gun  prepawn_other  ...  returned_other  rentals_handgun  \\\n",
       "count      10540.000000    5115.000000  ...     1815.000000       990.000000   \n",
       "mean           7.834156       0.165591  ...        1.027548         0.076768   \n",
       "std           16.468028       1.057105  ...        4.386296         0.634503   \n",
       "min            0.000000       0.000000  ...        0.000000         0.000000   \n",
       "25%            0.000000       0.000000  ...        0.000000         0.000000   \n",
       "50%            1.000000       0.000000  ...        0.000000         0.000000   \n",
       "75%            8.000000       0.000000  ...        0.000000         0.000000   \n",
       "max          269.000000      49.000000  ...       64.000000        12.000000   \n",
       "\n",
       "       rentals_long_gun  private_sale_handgun  private_sale_long_gun  \\\n",
       "count        825.000000           2750.000000            2750.000000   \n",
       "mean           0.087273             14.936000              11.602909   \n",
       "std            0.671649             71.216021              54.253090   \n",
       "min            0.000000              0.000000               0.000000   \n",
       "25%            0.000000              0.000000               0.000000   \n",
       "50%            0.000000              0.000000               0.000000   \n",
       "75%            0.000000              2.000000               4.000000   \n",
       "max           12.000000           1017.000000             777.000000   \n",
       "\n",
       "       private_sale_other  return_to_seller_handgun  \\\n",
       "count         2750.000000               2475.000000   \n",
       "mean             1.030182                  0.402020   \n",
       "std              4.467843                  1.446568   \n",
       "min              0.000000                  0.000000   \n",
       "25%              0.000000                  0.000000   \n",
       "50%              0.000000                  0.000000   \n",
       "75%              0.000000                  0.000000   \n",
       "max             71.000000                 28.000000   \n",
       "\n",
       "       return_to_seller_long_gun  return_to_seller_other         totals  \n",
       "count                2750.000000             2255.000000   12485.000000  \n",
       "mean                    0.441818                0.105987   21595.725911  \n",
       "std                     1.528223                0.427363   32591.418387  \n",
       "min                     0.000000                0.000000       0.000000  \n",
       "25%                     0.000000                0.000000    4638.000000  \n",
       "50%                     0.000000                0.000000   12399.000000  \n",
       "75%                     0.000000                0.000000   25453.000000  \n",
       "max                    17.000000                4.000000  541978.000000  \n",
       "\n",
       "[8 rows x 25 columns]"
      ],
      "text/html": "<div>\n<style scoped>\n    .dataframe tbody tr th:only-of-type {\n        vertical-align: middle;\n    }\n\n    .dataframe tbody tr th {\n        vertical-align: top;\n    }\n\n    .dataframe thead th {\n        text-align: right;\n    }\n</style>\n<table border=\"1\" class=\"dataframe\">\n  <thead>\n    <tr style=\"text-align: right;\">\n      <th></th>\n      <th>permit</th>\n      <th>permit_recheck</th>\n      <th>handgun</th>\n      <th>long_gun</th>\n      <th>other</th>\n      <th>multiple</th>\n      <th>admin</th>\n      <th>prepawn_handgun</th>\n      <th>prepawn_long_gun</th>\n      <th>prepawn_other</th>\n      <th>...</th>\n      <th>returned_other</th>\n      <th>rentals_handgun</th>\n      <th>rentals_long_gun</th>\n      <th>private_sale_handgun</th>\n      <th>private_sale_long_gun</th>\n      <th>private_sale_other</th>\n      <th>return_to_seller_handgun</th>\n      <th>return_to_seller_long_gun</th>\n      <th>return_to_seller_other</th>\n      <th>totals</th>\n    </tr>\n  </thead>\n  <tbody>\n    <tr>\n      <th>count</th>\n      <td>12461.000000</td>\n      <td>1100.000000</td>\n      <td>12465.000000</td>\n      <td>12466.000000</td>\n      <td>5500.000000</td>\n      <td>12485.000000</td>\n      <td>12462.000000</td>\n      <td>10542.000000</td>\n      <td>10540.000000</td>\n      <td>5115.000000</td>\n      <td>...</td>\n      <td>1815.000000</td>\n      <td>990.000000</td>\n      <td>825.000000</td>\n      <td>2750.000000</td>\n      <td>2750.000000</td>\n      <td>2750.000000</td>\n      <td>2475.000000</td>\n      <td>2750.000000</td>\n      <td>2255.000000</td>\n      <td>12485.000000</td>\n    </tr>\n    <tr>\n      <th>mean</th>\n      <td>6413.629404</td>\n      <td>1165.956364</td>\n      <td>5940.881107</td>\n      <td>7810.847585</td>\n      <td>360.471636</td>\n      <td>268.603364</td>\n      <td>58.898090</td>\n      <td>4.828021</td>\n      <td>7.834156</td>\n      <td>0.165591</td>\n      <td>...</td>\n      <td>1.027548</td>\n      <td>0.076768</td>\n      <td>0.087273</td>\n      <td>14.936000</td>\n      <td>11.602909</td>\n      <td>1.030182</td>\n      <td>0.402020</td>\n      <td>0.441818</td>\n      <td>0.105987</td>\n      <td>21595.725911</td>\n    </tr>\n    <tr>\n      <th>std</th>\n      <td>23752.338269</td>\n      <td>9224.200609</td>\n      <td>8618.584060</td>\n      <td>9309.846140</td>\n      <td>1349.478273</td>\n      <td>783.185073</td>\n      <td>604.814818</td>\n      <td>10.907756</td>\n      <td>16.468028</td>\n      <td>1.057105</td>\n      <td>...</td>\n      <td>4.386296</td>\n      <td>0.634503</td>\n      <td>0.671649</td>\n      <td>71.216021</td>\n      <td>54.253090</td>\n      <td>4.467843</td>\n      <td>1.446568</td>\n      <td>1.528223</td>\n      <td>0.427363</td>\n      <td>32591.418387</td>\n    </tr>\n    <tr>\n      <th>min</th>\n      <td>0.000000</td>\n      <td>0.000000</td>\n      <td>0.000000</td>\n      <td>0.000000</td>\n      <td>0.000000</td>\n      <td>0.000000</td>\n      <td>0.000000</td>\n      <td>0.000000</td>\n      <td>0.000000</td>\n      <td>0.000000</td>\n      <td>...</td>\n      <td>0.000000</td>\n      <td>0.000000</td>\n      <td>0.000000</td>\n      <td>0.000000</td>\n      <td>0.000000</td>\n      <td>0.000000</td>\n      <td>0.000000</td>\n      <td>0.000000</td>\n      <td>0.000000</td>\n      <td>0.000000</td>\n    </tr>\n    <tr>\n      <th>25%</th>\n      <td>0.000000</td>\n      <td>0.000000</td>\n      <td>865.000000</td>\n      <td>2078.250000</td>\n      <td>17.000000</td>\n      <td>15.000000</td>\n      <td>0.000000</td>\n      <td>0.000000</td>\n      <td>0.000000</td>\n      <td>0.000000</td>\n      <td>...</td>\n      <td>0.000000</td>\n      <td>0.000000</td>\n      <td>0.000000</td>\n      <td>0.000000</td>\n      <td>0.000000</td>\n      <td>0.000000</td>\n      <td>0.000000</td>\n      <td>0.000000</td>\n      <td>0.000000</td>\n      <td>4638.000000</td>\n    </tr>\n    <tr>\n      <th>50%</th>\n      <td>518.000000</td>\n      <td>0.000000</td>\n      <td>3059.000000</td>\n      <td>5122.000000</td>\n      <td>121.000000</td>\n      <td>125.000000</td>\n      <td>0.000000</td>\n      <td>0.000000</td>\n      <td>1.000000</td>\n      <td>0.000000</td>\n      <td>...</td>\n      <td>0.000000</td>\n      <td>0.000000</td>\n      <td>0.000000</td>\n      <td>0.000000</td>\n      <td>0.000000</td>\n      <td>0.000000</td>\n      <td>0.000000</td>\n      <td>0.000000</td>\n      <td>0.000000</td>\n      <td>12399.000000</td>\n    </tr>\n    <tr>\n      <th>75%</th>\n      <td>4272.000000</td>\n      <td>0.000000</td>\n      <td>7280.000000</td>\n      <td>10380.750000</td>\n      <td>354.000000</td>\n      <td>301.000000</td>\n      <td>0.000000</td>\n      <td>5.000000</td>\n      <td>8.000000</td>\n      <td>0.000000</td>\n      <td>...</td>\n      <td>0.000000</td>\n      <td>0.000000</td>\n      <td>0.000000</td>\n      <td>2.000000</td>\n      <td>4.000000</td>\n      <td>0.000000</td>\n      <td>0.000000</td>\n      <td>0.000000</td>\n      <td>0.000000</td>\n      <td>25453.000000</td>\n    </tr>\n    <tr>\n      <th>max</th>\n      <td>522188.000000</td>\n      <td>116681.000000</td>\n      <td>107224.000000</td>\n      <td>108058.000000</td>\n      <td>77929.000000</td>\n      <td>38907.000000</td>\n      <td>28083.000000</td>\n      <td>164.000000</td>\n      <td>269.000000</td>\n      <td>49.000000</td>\n      <td>...</td>\n      <td>64.000000</td>\n      <td>12.000000</td>\n      <td>12.000000</td>\n      <td>1017.000000</td>\n      <td>777.000000</td>\n      <td>71.000000</td>\n      <td>28.000000</td>\n      <td>17.000000</td>\n      <td>4.000000</td>\n      <td>541978.000000</td>\n    </tr>\n  </tbody>\n</table>\n<p>8 rows × 25 columns</p>\n</div>"
     },
     "metadata": {},
     "execution_count": 17
    }
   ],
   "source": [
    "census_df = pd.read_csv('ncis-and-census-data (1)/U.S. Census Data.csv')\n",
    "gun_df = pd.read_csv('ncis-and-census-data (1)/gun_data.csv')\n",
    "gun_df.describe()"
   ]
  }
 ]
}